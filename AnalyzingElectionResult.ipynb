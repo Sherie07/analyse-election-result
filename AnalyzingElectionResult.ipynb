{
  "nbformat": 4,
  "nbformat_minor": 0,
  "metadata": {
    "colab": {
      "provenance": [],
      "authorship_tag": "ABX9TyPik9kmQpRq09mMDg2JljfY",
      "include_colab_link": true
    },
    "kernelspec": {
      "name": "python3",
      "display_name": "Python 3"
    },
    "language_info": {
      "name": "python"
    }
  },
  "cells": [
    {
      "cell_type": "markdown",
      "metadata": {
        "id": "view-in-github",
        "colab_type": "text"
      },
      "source": [
        "<a href=\"https://colab.research.google.com/github/Sherie07/analyse-election-result/blob/main/AnalyzingElectionResult.ipynb\" target=\"_parent\"><img src=\"https://colab.research.google.com/assets/colab-badge.svg\" alt=\"Open In Colab\"/></a>"
      ]
    },
    {
      "cell_type": "code",
      "execution_count": null,
      "metadata": {
        "id": "cEeHBZRI8Yuz"
      },
      "outputs": [],
      "source": []
    },
    {
      "cell_type": "code",
      "source": [
        "import pandas as pd"
      ],
      "metadata": {
        "id": "OtLDm4hi8fRH"
      },
      "execution_count": 1,
      "outputs": []
    },
    {
      "cell_type": "code",
      "source": [
        "data = {\n",
        "    'Constituency': ['A', 'B', 'C', 'A', 'B', 'C', 'A', 'B', 'C'],\n",
        "    'Party': ['Party A', 'Party B', 'Party A', 'Party B', 'Party C', 'Party C', 'Party A', 'Party B', 'Party A'],\n",
        "    'Candidate': ['Candidate X', 'Candidate Y', 'Candidate Z', 'Candidate P', 'Candidate Q', 'Candidate R',\n",
        "                  'Candidate S', 'Candidate T', 'Candidate U'],\n",
        "    'Votes': [15000, 12000, 18000, 13000, 10000, 11000, 17000, 14000, 16000]\n",
        "}\n",
        "df = pd.DataFrame(data)\n"
      ],
      "metadata": {
        "id": "kjwwBk2L8nw_"
      },
      "execution_count": 2,
      "outputs": []
    },
    {
      "cell_type": "code",
      "source": [
        "total_votes_by_party = df.groupby('Party')['Votes'].sum()\n",
        "print(\"Total Votes per Party:\\n\", total_votes_by_party)\n"
      ],
      "metadata": {
        "colab": {
          "base_uri": "https://localhost:8080/"
        },
        "id": "UhVmBRJm8sv_",
        "outputId": "d636d85f-9489-48df-84ae-01501d18af1d"
      },
      "execution_count": 3,
      "outputs": [
        {
          "output_type": "stream",
          "name": "stdout",
          "text": [
            "Total Votes per Party:\n",
            " Party\n",
            "Party A    66000\n",
            "Party B    39000\n",
            "Party C    21000\n",
            "Name: Votes, dtype: int64\n"
          ]
        }
      ]
    },
    {
      "cell_type": "code",
      "source": [
        "def get_winning_party(x):\n",
        "    return x.loc[x['Votes'].idxmax(), 'Party']\n"
      ],
      "metadata": {
        "id": "aSm-9pWJ8yBM"
      },
      "execution_count": 4,
      "outputs": []
    },
    {
      "cell_type": "code",
      "source": [
        "winning_party_by_constituency = df.groupby('Constituency').apply(get_winning_party)\n",
        "print(\"\\nWinning Party by Constituency:\\n\", winning_party_by_constituency)\n"
      ],
      "metadata": {
        "colab": {
          "base_uri": "https://localhost:8080/"
        },
        "id": "PzXqmDos85Jm",
        "outputId": "fe107b2c-f5ec-4e8c-efa2-300701811ed1"
      },
      "execution_count": 5,
      "outputs": [
        {
          "output_type": "stream",
          "name": "stdout",
          "text": [
            "\n",
            "Winning Party by Constituency:\n",
            " Constituency\n",
            "A    Party A\n",
            "B    Party B\n",
            "C    Party A\n",
            "dtype: object\n"
          ]
        },
        {
          "output_type": "stream",
          "name": "stderr",
          "text": [
            "<ipython-input-5-76b07b8f0cd9>:1: DeprecationWarning: DataFrameGroupBy.apply operated on the grouping columns. This behavior is deprecated, and in a future version of pandas the grouping columns will be excluded from the operation. Either pass `include_groups=False` to exclude the groupings or explicitly select the grouping columns after groupby to silence this warning.\n",
            "  winning_party_by_constituency = df.groupby('Constituency').apply(get_winning_party)\n"
          ]
        }
      ]
    },
    {
      "cell_type": "code",
      "source": [
        "overall_winner = total_votes_by_party.idxmax()\n",
        "print(\"\\nOverall Election Winner:\", overall_winner)"
      ],
      "metadata": {
        "colab": {
          "base_uri": "https://localhost:8080/"
        },
        "id": "S4w2Epxo9Eyd",
        "outputId": "93529ef9-0716-4756-db8a-33f7b8414458"
      },
      "execution_count": 6,
      "outputs": [
        {
          "output_type": "stream",
          "name": "stdout",
          "text": [
            "\n",
            "Overall Election Winner: Party A\n"
          ]
        }
      ]
    },
    {
      "cell_type": "code",
      "source": [
        "total_votes = df['Votes'].sum()\n",
        "df['Vote Share (%)'] = (df['Votes'] / total_votes) * 100\n",
        "print(\"\\nVote Share Percentages:\\n\", df)"
      ],
      "metadata": {
        "colab": {
          "base_uri": "https://localhost:8080/"
        },
        "id": "iN3zp5Mi9e9D",
        "outputId": "69e79e26-cbb9-4add-873a-5d8ed2805d9c"
      },
      "execution_count": 7,
      "outputs": [
        {
          "output_type": "stream",
          "name": "stdout",
          "text": [
            "\n",
            "Vote Share Percentages:\n",
            "   Constituency    Party    Candidate  Votes  Vote Share (%)\n",
            "0            A  Party A  Candidate X  15000       11.904762\n",
            "1            B  Party B  Candidate Y  12000        9.523810\n",
            "2            C  Party A  Candidate Z  18000       14.285714\n",
            "3            A  Party B  Candidate P  13000       10.317460\n",
            "4            B  Party C  Candidate Q  10000        7.936508\n",
            "5            C  Party C  Candidate R  11000        8.730159\n",
            "6            A  Party A  Candidate S  17000       13.492063\n",
            "7            B  Party B  Candidate T  14000       11.111111\n",
            "8            C  Party A  Candidate U  16000       12.698413\n"
          ]
        }
      ]
    },
    {
      "cell_type": "code",
      "source": [
        "def close_contest(x):\n",
        "    vote_counts = x['Votes'].values\n",
        "    if len(vote_counts) > 1:\n",
        "        vote_counts.sort()  # Sort the vote counts within the constituency\n",
        "        margin = (vote_counts[-1] - vote_counts[-2]) / vote_counts[-1] * 100\n",
        "        return margin < 12.0\n",
        "    else:\n",
        "        return False\n",
        "\n",
        "close_constituencies = df.groupby('Constituency').filter(close_contest)['Constituency'].unique()\n",
        "print(\"\\nConstituencies with Close Contests:\", close_constituencies)"
      ],
      "metadata": {
        "colab": {
          "base_uri": "https://localhost:8080/"
        },
        "id": "M1EWBXKz9u8L",
        "outputId": "ade126b5-391d-4484-e047-30529d3a8c64"
      },
      "execution_count": 8,
      "outputs": [
        {
          "output_type": "stream",
          "name": "stdout",
          "text": [
            "\n",
            "Constituencies with Close Contests: ['A' 'C']\n"
          ]
        }
      ]
    }
  ]
}